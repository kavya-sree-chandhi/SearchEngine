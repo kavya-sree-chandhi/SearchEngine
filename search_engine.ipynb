{
 "cells": [
  {
   "cell_type": "code",
   "execution_count": 1,
   "id": "b76da064",
   "metadata": {},
   "outputs": [
    {
     "name": "stderr",
     "output_type": "stream",
     "text": [
      "\n",
      "[notice] A new release of pip is available: 23.2.1 -> 25.1.1\n",
      "[notice] To update, run: python.exe -m pip install --upgrade pip\n"
     ]
    },
    {
     "name": "stdout",
     "output_type": "stream",
     "text": [
      "Requirement already satisfied: sentence-transformers in c:\\users\\chand\\appdata\\local\\programs\\python\\python311\\lib\\site-packages (5.0.0)\n",
      "Requirement already satisfied: numpy in c:\\users\\chand\\appdata\\local\\programs\\python\\python311\\lib\\site-packages (2.3.1)\n",
      "Requirement already satisfied: scikit-learn in c:\\users\\chand\\appdata\\local\\programs\\python\\python311\\lib\\site-packages (1.7.0)\n",
      "Requirement already satisfied: matplotlib in c:\\users\\chand\\appdata\\local\\programs\\python\\python311\\lib\\site-packages (3.10.3)\n",
      "Requirement already satisfied: plotly in c:\\users\\chand\\appdata\\local\\programs\\python\\python311\\lib\\site-packages (6.2.0)\n",
      "Requirement already satisfied: transformers<5.0.0,>=4.41.0 in c:\\users\\chand\\appdata\\local\\programs\\python\\python311\\lib\\site-packages (from sentence-transformers) (4.53.2)\n",
      "Requirement already satisfied: tqdm in c:\\users\\chand\\appdata\\local\\programs\\python\\python311\\lib\\site-packages (from sentence-transformers) (4.67.1)\n",
      "Requirement already satisfied: torch>=1.11.0 in c:\\users\\chand\\appdata\\local\\programs\\python\\python311\\lib\\site-packages (from sentence-transformers) (2.7.1)\n",
      "Requirement already satisfied: scipy in c:\\users\\chand\\appdata\\local\\programs\\python\\python311\\lib\\site-packages (from sentence-transformers) (1.16.0)\n",
      "Requirement already satisfied: huggingface-hub>=0.20.0 in c:\\users\\chand\\appdata\\local\\programs\\python\\python311\\lib\\site-packages (from sentence-transformers) (0.33.4)\n",
      "Requirement already satisfied: Pillow in c:\\users\\chand\\appdata\\local\\programs\\python\\python311\\lib\\site-packages (from sentence-transformers) (11.3.0)\n",
      "Requirement already satisfied: typing_extensions>=4.5.0 in c:\\users\\chand\\appdata\\local\\programs\\python\\python311\\lib\\site-packages (from sentence-transformers) (4.14.1)\n",
      "Requirement already satisfied: joblib>=1.2.0 in c:\\users\\chand\\appdata\\local\\programs\\python\\python311\\lib\\site-packages (from scikit-learn) (1.5.1)\n",
      "Requirement already satisfied: threadpoolctl>=3.1.0 in c:\\users\\chand\\appdata\\local\\programs\\python\\python311\\lib\\site-packages (from scikit-learn) (3.6.0)\n",
      "Requirement already satisfied: contourpy>=1.0.1 in c:\\users\\chand\\appdata\\local\\programs\\python\\python311\\lib\\site-packages (from matplotlib) (1.3.2)\n",
      "Requirement already satisfied: cycler>=0.10 in c:\\users\\chand\\appdata\\local\\programs\\python\\python311\\lib\\site-packages (from matplotlib) (0.12.1)\n",
      "Requirement already satisfied: fonttools>=4.22.0 in c:\\users\\chand\\appdata\\local\\programs\\python\\python311\\lib\\site-packages (from matplotlib) (4.58.5)\n",
      "Requirement already satisfied: kiwisolver>=1.3.1 in c:\\users\\chand\\appdata\\local\\programs\\python\\python311\\lib\\site-packages (from matplotlib) (1.4.8)\n",
      "Requirement already satisfied: packaging>=20.0 in c:\\users\\chand\\appdata\\local\\programs\\python\\python311\\lib\\site-packages (from matplotlib) (24.2)\n",
      "Requirement already satisfied: pyparsing>=2.3.1 in c:\\users\\chand\\appdata\\local\\programs\\python\\python311\\lib\\site-packages (from matplotlib) (3.2.3)\n",
      "Requirement already satisfied: python-dateutil>=2.7 in c:\\users\\chand\\appdata\\local\\programs\\python\\python311\\lib\\site-packages (from matplotlib) (2.9.0.post0)\n",
      "Requirement already satisfied: narwhals>=1.15.1 in c:\\users\\chand\\appdata\\local\\programs\\python\\python311\\lib\\site-packages (from plotly) (1.46.0)\n",
      "Requirement already satisfied: filelock in c:\\users\\chand\\appdata\\local\\programs\\python\\python311\\lib\\site-packages (from huggingface-hub>=0.20.0->sentence-transformers) (3.18.0)\n",
      "Requirement already satisfied: fsspec>=2023.5.0 in c:\\users\\chand\\appdata\\local\\programs\\python\\python311\\lib\\site-packages (from huggingface-hub>=0.20.0->sentence-transformers) (2025.5.1)\n",
      "Requirement already satisfied: pyyaml>=5.1 in c:\\users\\chand\\appdata\\local\\programs\\python\\python311\\lib\\site-packages (from huggingface-hub>=0.20.0->sentence-transformers) (6.0.2)\n",
      "Requirement already satisfied: requests in c:\\users\\chand\\appdata\\local\\programs\\python\\python311\\lib\\site-packages (from huggingface-hub>=0.20.0->sentence-transformers) (2.32.4)\n",
      "Requirement already satisfied: six>=1.5 in c:\\users\\chand\\appdata\\local\\programs\\python\\python311\\lib\\site-packages (from python-dateutil>=2.7->matplotlib) (1.17.0)\n",
      "Requirement already satisfied: sympy>=1.13.3 in c:\\users\\chand\\appdata\\local\\programs\\python\\python311\\lib\\site-packages (from torch>=1.11.0->sentence-transformers) (1.14.0)\n",
      "Requirement already satisfied: networkx in c:\\users\\chand\\appdata\\local\\programs\\python\\python311\\lib\\site-packages (from torch>=1.11.0->sentence-transformers) (3.5)\n",
      "Requirement already satisfied: jinja2 in c:\\users\\chand\\appdata\\local\\programs\\python\\python311\\lib\\site-packages (from torch>=1.11.0->sentence-transformers) (3.1.6)\n",
      "Requirement already satisfied: colorama in c:\\users\\chand\\appdata\\roaming\\python\\python311\\site-packages (from tqdm->sentence-transformers) (0.4.6)\n",
      "Requirement already satisfied: regex!=2019.12.17 in c:\\users\\chand\\appdata\\local\\programs\\python\\python311\\lib\\site-packages (from transformers<5.0.0,>=4.41.0->sentence-transformers) (2024.11.6)\n",
      "Requirement already satisfied: tokenizers<0.22,>=0.21 in c:\\users\\chand\\appdata\\local\\programs\\python\\python311\\lib\\site-packages (from transformers<5.0.0,>=4.41.0->sentence-transformers) (0.21.2)\n",
      "Requirement already satisfied: safetensors>=0.4.3 in c:\\users\\chand\\appdata\\local\\programs\\python\\python311\\lib\\site-packages (from transformers<5.0.0,>=4.41.0->sentence-transformers) (0.5.3)\n",
      "Requirement already satisfied: mpmath<1.4,>=1.1.0 in c:\\users\\chand\\appdata\\local\\programs\\python\\python311\\lib\\site-packages (from sympy>=1.13.3->torch>=1.11.0->sentence-transformers) (1.3.0)\n",
      "Requirement already satisfied: MarkupSafe>=2.0 in c:\\users\\chand\\appdata\\local\\programs\\python\\python311\\lib\\site-packages (from jinja2->torch>=1.11.0->sentence-transformers) (3.0.2)\n",
      "Requirement already satisfied: charset_normalizer<4,>=2 in c:\\users\\chand\\appdata\\local\\programs\\python\\python311\\lib\\site-packages (from requests->huggingface-hub>=0.20.0->sentence-transformers) (3.4.2)\n",
      "Requirement already satisfied: idna<4,>=2.5 in c:\\users\\chand\\appdata\\local\\programs\\python\\python311\\lib\\site-packages (from requests->huggingface-hub>=0.20.0->sentence-transformers) (3.10)\n",
      "Requirement already satisfied: urllib3<3,>=1.21.1 in c:\\users\\chand\\appdata\\local\\programs\\python\\python311\\lib\\site-packages (from requests->huggingface-hub>=0.20.0->sentence-transformers) (2.5.0)\n",
      "Requirement already satisfied: certifi>=2017.4.17 in c:\\users\\chand\\appdata\\local\\programs\\python\\python311\\lib\\site-packages (from requests->huggingface-hub>=0.20.0->sentence-transformers) (2025.7.9)\n"
     ]
    },
    {
     "name": "stderr",
     "output_type": "stream",
     "text": [
      "c:\\Users\\chand\\AppData\\Local\\Programs\\Python\\Python311\\Lib\\site-packages\\tqdm\\auto.py:21: TqdmWarning: IProgress not found. Please update jupyter and ipywidgets. See https://ipywidgets.readthedocs.io/en/stable/user_install.html\n",
      "  from .autonotebook import tqdm as notebook_tqdm\n"
     ]
    }
   ],
   "source": [
    "# Install the required libraries\n",
    "!pip install sentence-transformers numpy scikit-learn matplotlib plotly\n",
    "# Basic imports\n",
    "import numpy as np\n",
    "from sentence_transformers import SentenceTransformer\n",
    "from sklearn.metrics.pairwise import cosine_similarity\n",
    "import matplotlib.pyplot as plt"
   ]
  },
  {
   "cell_type": "code",
   "execution_count": 24,
   "id": "adca99b4",
   "metadata": {},
   "outputs": [
    {
     "name": "stdout",
     "output_type": "stream",
     "text": [
      "Shape of embeddings: (8, 384)\n",
      "First embedding (truncated): [-0.05730826  0.01283558 -0.03422998  0.02367334 -0.01728803 -0.16942014\n",
      "  0.037422    0.08024066 -0.01947522  0.03225826]...\n"
     ]
    }
   ],
   "source": [
    "# Load a pre-trained model\n",
    "model = SentenceTransformer('all-MiniLM-L6-v2')\n",
    "\n",
    "# Sample sentences\n",
    "sentences = [\n",
    "    \"I love programming in Python\",\n",
    "    \"Python is a great programming language\",\n",
    "    \"I enjoy cooking Italian food\",\n",
    "    \"Pasta is my favorite Italian dish\",\n",
    "    \"Machine learning is fascinating\",\n",
    "    \"I prefer fried momos over regular\",\n",
    "    \"Pubg Game is not interesting one anymore\",\n",
    "    \"Labrador's are friendly dogs\"\n",
    "]\n",
    "# Generate embeddings\n",
    "embeddings = model.encode(sentences)\n",
    "print(f\"Shape of embeddings: {embeddings.shape}\")\n",
    "print(f\"First embedding (truncated): {embeddings[0][:10]}...\")"
   ]
  },
  {
   "cell_type": "code",
   "execution_count": 25,
   "id": "6467023e",
   "metadata": {},
   "outputs": [
    {
     "name": "stdout",
     "output_type": "stream",
     "text": [
      "Semantic Similarity Matrix:\n",
      "------------------------------------------------------------\n",
      "'I love programming in Python...' vs 'Python is a great programming ...': 0.868\n",
      "'I love programming in Python...' vs 'I enjoy cooking Italian food...': 0.284\n",
      "'I love programming in Python...' vs 'Pasta is my favorite Italian d...': 0.221\n",
      "'I love programming in Python...' vs 'Machine learning is fascinatin...': 0.314\n",
      "'I love programming in Python...' vs 'I prefer fried momos over regu...': 0.056\n",
      "'I love programming in Python...' vs 'Pubg Game is not interesting o...': 0.143\n",
      "'I love programming in Python...' vs 'Labrador's are friendly dogs...': 0.174\n",
      "'Python is a great programming ...' vs 'I enjoy cooking Italian food...': 0.176\n",
      "'Python is a great programming ...' vs 'Pasta is my favorite Italian d...': 0.210\n",
      "'Python is a great programming ...' vs 'Machine learning is fascinatin...': 0.289\n",
      "'Python is a great programming ...' vs 'I prefer fried momos over regu...': 0.051\n",
      "'Python is a great programming ...' vs 'Pubg Game is not interesting o...': 0.123\n",
      "'Python is a great programming ...' vs 'Labrador's are friendly dogs...': 0.173\n",
      "'I enjoy cooking Italian food...' vs 'Pasta is my favorite Italian d...': 0.737\n",
      "'I enjoy cooking Italian food...' vs 'Machine learning is fascinatin...': 0.161\n",
      "'I enjoy cooking Italian food...' vs 'I prefer fried momos over regu...': 0.359\n",
      "'I enjoy cooking Italian food...' vs 'Pubg Game is not interesting o...': -0.006\n",
      "'I enjoy cooking Italian food...' vs 'Labrador's are friendly dogs...': 0.084\n",
      "'Pasta is my favorite Italian d...' vs 'Machine learning is fascinatin...': 0.170\n",
      "'Pasta is my favorite Italian d...' vs 'I prefer fried momos over regu...': 0.343\n",
      "'Pasta is my favorite Italian d...' vs 'Pubg Game is not interesting o...': 0.006\n",
      "'Pasta is my favorite Italian d...' vs 'Labrador's are friendly dogs...': 0.079\n",
      "'Machine learning is fascinatin...' vs 'I prefer fried momos over regu...': 0.036\n",
      "'Machine learning is fascinatin...' vs 'Pubg Game is not interesting o...': 0.210\n",
      "'Machine learning is fascinatin...' vs 'Labrador's are friendly dogs...': 0.137\n",
      "'I prefer fried momos over regu...' vs 'Pubg Game is not interesting o...': 0.025\n",
      "'I prefer fried momos over regu...' vs 'Labrador's are friendly dogs...': 0.037\n",
      "'Pubg Game is not interesting o...' vs 'Labrador's are friendly dogs...': 0.049\n"
     ]
    }
   ],
   "source": [
    "def calculate_similarity_matrix(sentences, embeddings):\n",
    "    \"\"\"Calculate cosine similarity between all pairs of sentences\"\"\"\n",
    "    similarity_matrix = cosine_similarity(embeddings)\n",
    "    \n",
    "    # Create a readable similarity report\n",
    "    print(\"Semantic Similarity Matrix:\")\n",
    "    print(\"-\" * 60)\n",
    "    \n",
    "    for i, sent1 in enumerate(sentences):\n",
    "        for j, sent2 in enumerate(sentences):\n",
    "            if i < j:  # Only show upper triangle to avoid duplicates\n",
    "                similarity = similarity_matrix[i][j]\n",
    "                print(f\"'{sent1[:30]}...' vs '{sent2[:30]}...': {similarity:.3f}\")\n",
    "    \n",
    "    return similarity_matrix\n",
    "\n",
    "# Calculate similarities\n",
    "similarity_matrix = calculate_similarity_matrix(sentences, embeddings)"
   ]
  },
  {
   "cell_type": "code",
   "execution_count": 26,
   "id": "105be1ec",
   "metadata": {},
   "outputs": [],
   "source": [
    "def get_closest_match(sentence, embeddings):\n",
    "    ls = []\n",
    "    \n",
    "    sentence = model.encode([sentence])\n",
    "    sentence = np.squeeze(sentence)\n",
    "    sentence = sentence.reshape(1, 384)\n",
    "    print(sentence.shape)\n",
    "    for emb in embeddings:\n",
    "        emb=emb.reshape(1, 384)\n",
    "        print(emb.shape)\n",
    "        similarity = cosine_similarity(sentence, emb)\n",
    "        ls.append(similarity[0][0])\n",
    "        \n",
    "        #rint(sentence, \"versus\", emb, similarity)\n",
    "    print(ls)       \n",
    "    return sentences[ls.index(max(ls))]\n",
    "    \n",
    "        "
   ]
  },
  {
   "cell_type": "code",
   "execution_count": 28,
   "id": "895c4606",
   "metadata": {},
   "outputs": [
    {
     "name": "stdout",
     "output_type": "stream",
     "text": [
      "(1, 384)\n",
      "(1, 384)\n",
      "(1, 384)\n",
      "(1, 384)\n",
      "(1, 384)\n",
      "(1, 384)\n",
      "(1, 384)\n",
      "(1, 384)\n",
      "(1, 384)\n",
      "[np.float32(0.090014465), np.float32(0.083957344), np.float32(0.057741795), np.float32(0.021044174), np.float32(0.08342032), np.float32(0.07432101), np.float32(0.69103736), np.float32(0.05570826)]\n"
     ]
    },
    {
     "data": {
      "text/plain": [
       "'Pubg Game is not interesting one anymore'"
      ]
     },
     "execution_count": 28,
     "metadata": {},
     "output_type": "execute_result"
    }
   ],
   "source": [
    "get_closest_match(\"pubg\",embeddings)"
   ]
  },
  {
   "cell_type": "code",
   "execution_count": null,
   "id": "76cf37ab",
   "metadata": {},
   "outputs": [],
   "source": []
  }
 ],
 "metadata": {
  "kernelspec": {
   "display_name": "Python 3",
   "language": "python",
   "name": "python3"
  },
  "language_info": {
   "codemirror_mode": {
    "name": "ipython",
    "version": 3
   },
   "file_extension": ".py",
   "mimetype": "text/x-python",
   "name": "python",
   "nbconvert_exporter": "python",
   "pygments_lexer": "ipython3",
   "version": "3.11.6"
  }
 },
 "nbformat": 4,
 "nbformat_minor": 5
}
